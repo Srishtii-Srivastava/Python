{
 "cells": [
  {
   "cell_type": "code",
   "execution_count": 2,
   "metadata": {},
   "outputs": [],
   "source": [
    "def check_win(board):\n",
    "    '''\n",
    "        this function checks if anyone of the members has won the game yet or not\n",
    "    '''\n",
    "    result = {\"win\" : False,\"symbol\":None}\n",
    "    #check daigonals :\n",
    "    #left diagonal\n",
    "    if board[1] == board[5] == board[9] and board[1]!=' ':\n",
    "        result[\"win\"] = True\n",
    "        result[\"symbol\"] = board[5]\n",
    "    #right daigonal\n",
    "    elif board[3] == board[5] == board[7] and board[3]!=' ' :\n",
    "        result.update({\"win\":True, \"symbol\" : board[5]})\n",
    "    #columns check\n",
    "    elif board[1] == board[2] == board[3] and board[1]!=' ':\n",
    "        result.update({\"win\":True, \"symbol\" : board[1]})\n",
    "    elif board[4] == board[5] == board[6] and board[4]!=' ':\n",
    "        result.update({\"win\":True, \"symbol\" : board[4]})\n",
    "    elif board[7] == board[8] == board[9] and board[7]!=' ':\n",
    "        result.update({\"win\":True, \"symbol\" : board[9]})\n",
    "    #rows check\n",
    "    elif board[1] == board[4] == board[7] and board[1]!=' ':\n",
    "        result.update({\"win\":True, \"symbol\" : board[1]})\n",
    "    elif board[2] == board[5] == board[8] and board[2]!=' ':\n",
    "        result.update({\"win\":True, \"symbol\" : board[2]})\n",
    "    elif board[3] == board[6] == board[9] and board[3]!=' ':\n",
    "        result.update({\"win\":True, \"symbol\" : board[3]})\n",
    "     \n",
    "    return result"
   ]
  },
  {
   "cell_type": "code",
   "execution_count": 3,
   "metadata": {},
   "outputs": [],
   "source": [
    "def play_game():\n",
    "    \n",
    "    x = input(\"Ready to play Tic-Tac-Toe?(Y/n) : \")\n",
    "    while x.upper() == 'Y':\n",
    "        board={\n",
    "            1:\" \",2:\" \",3:\" \",\n",
    "            4:\" \",5:\" \",6:\" \",\n",
    "            7:\" \",8:\" \",9:\" \"\n",
    "        }\n",
    "        print(f' {board[1]} | {board[2]} | {board.get(3)} \\n-----------\\n {board.get(4)} | {board.get(5)} | {board.get(6)} \\n-----------\\n {board.get(7)} | {board.get(8)} | {board.get(9)} ')\n",
    "        k = input('Player 1 Choose your symbol(X/O) : ')\n",
    "        if k.upper()=='X' : \n",
    "            player1_symbol = 'X'\n",
    "            player2_symbol = 'O'\n",
    "        else :\n",
    "            player1_symbol = 'O'\n",
    "            player2_symbol = 'X'\n",
    "        moves = 0\n",
    "        while moves <= 8:\n",
    "            board = get_valid_input(board,player1_symbol,1)\n",
    "            print(f' {board[1]} | {board[2]} | {board.get(3)} \\n-----------\\n {board.get(4)} | {board.get(5)} | {board.get(6)} \\n-----------\\n {board.get(7)} | {board.get(8)} | {board.get(9)} ')\n",
    "            resp = check_win(board)\n",
    "            if resp[\"win\"] == True :\n",
    "                if resp[\"symbol\"] == player1_symbol:\n",
    "                    print(\"Player 1 wins!!\")\n",
    "                else :\n",
    "                    print(\"Player 2 wins!!\")\n",
    "                break\n",
    "            board = get_valid_input(board,player2_symbol,2)  \n",
    "            print(f' {board[1]} | {board[2]} | {board.get(3)} \\n-----------\\n {board.get(4)} | {board.get(5)} | {board.get(6)} \\n-----------\\n {board.get(7)} | {board.get(8)} | {board.get(9)} ')\n",
    "            resp = check_win(board)\n",
    "            if resp[\"win\"] == True :\n",
    "                if resp[\"symbol\"] == player1_symbol:\n",
    "                    print(\"Player 1 wins!!\")\n",
    "                else :\n",
    "                    print(\"Player 2 wins!!\")\n",
    "                break\n",
    "            moves+=2\n",
    "        x = input('Do you want to play again?(Y/n) : ')"
   ]
  },
  {
   "cell_type": "code",
   "execution_count": 4,
   "metadata": {},
   "outputs": [],
   "source": [
    "def get_valid_input(board,player_symbol,player_num):\n",
    "    y = int(input(f\"Player {player_num} enter the position of your {player_symbol}: \"))\n",
    "    chk = validate_move(board,y)\n",
    "    while chk == False : \n",
    "        y = int(input(f\"Player {player_num} enter VALID position of your {player_symbol}: \"))\n",
    "        chk = validate_move(board,y) \n",
    "    else :\n",
    "        board[y] = player_symbol\n",
    "    return board"
   ]
  },
  {
   "cell_type": "code",
   "execution_count": 5,
   "metadata": {},
   "outputs": [],
   "source": [
    "def validate_move(board,pos):\n",
    "    if board[pos] == \" \" :\n",
    "        return True\n",
    "    else:\n",
    "        return False"
   ]
  },
  {
   "cell_type": "code",
   "execution_count": null,
   "metadata": {},
   "outputs": [],
   "source": [
    "play_game()"
   ]
  }
 ],
 "metadata": {
  "kernelspec": {
   "display_name": "Python 3",
   "language": "python",
   "name": "python3"
  },
  "language_info": {
   "codemirror_mode": {
    "name": "ipython",
    "version": 3
   },
   "file_extension": ".py",
   "mimetype": "text/x-python",
   "name": "python",
   "nbconvert_exporter": "python",
   "pygments_lexer": "ipython3",
   "version": "3.7.4"
  }
 },
 "nbformat": 4,
 "nbformat_minor": 2
}
